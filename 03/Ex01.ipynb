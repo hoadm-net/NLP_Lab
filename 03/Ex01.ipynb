{
 "cells": [
  {
   "cell_type": "code",
   "execution_count": 7,
   "id": "cf40e926-c401-4168-9ae8-6d177ed9300a",
   "metadata": {},
   "outputs": [],
   "source": [
    "from pyvi import ViTokenizer, ViPosTagger\n",
    "from underthesea import pos_tag"
   ]
  },
  {
   "cell_type": "code",
   "execution_count": 8,
   "id": "464b72f6-209b-4a8b-8211-39e826e77e09",
   "metadata": {},
   "outputs": [],
   "source": [
    "def pprint(tokens: list, tags: list, width=25) -> None:\n",
    "    for token in tokens:\n",
    "        print(token.ljust(width), end='|')\n",
    "    print()\n",
    "    for tag in tags:\n",
    "        print(tag.ljust(width), end='|')\n",
    "    print()\n",
    "    print(\"=\"*width*(len(tokens) + 1))\n",
    "    print('\\n')"
   ]
  },
  {
   "cell_type": "code",
   "execution_count": 9,
   "id": "96732a01-78e1-4106-af1f-9d17ec30e05c",
   "metadata": {},
   "outputs": [],
   "source": [
    "titles = [\n",
    "    'Nước sông Bắc Hưng Hải đen kịt', \n",
    "    'Lính Ukraine kể về đòn tập hậu của đặc nhiệm Nga ở Kharkov', \n",
    "    'Khen thưởng 4 người cứu nạn nhân vụ cháy ở Trung Kính', \n",
    "]"
   ]
  },
  {
   "cell_type": "code",
   "execution_count": 10,
   "id": "9db59aca-4d2e-4f20-b64d-264193a80b1a",
   "metadata": {},
   "outputs": [
    {
     "name": "stdout",
     "output_type": "stream",
     "text": [
      "Nước        |sông        |Bắc_Hưng    |Hải         |đen_kịt     |\n",
      "N           |N           |Np          |Np          |Np          |\n",
      "========================================================================\n",
      "\n",
      "\n",
      "Lính        |Ukraine     |kể          |về          |đòn         |tập_hậu     |của         |đặc_nhiệm   |Nga         |ở           |Kharkov     |\n",
      "N           |Np          |V           |E           |N           |V           |E           |Nc          |Np          |E           |Np          |\n",
      "================================================================================================================================================\n",
      "\n",
      "\n",
      "Khen_thưởng |4           |người       |cứu         |nạn_nhân    |vụ          |cháy        |ở           |Trung_Kính  |\n",
      "N           |M           |N           |V           |N           |N           |V           |E           |Np          |\n",
      "========================================================================================================================\n",
      "\n",
      "\n"
     ]
    }
   ],
   "source": [
    "for title in titles:\n",
    "    tokens, tags = ViPosTagger.postagging(ViTokenizer.tokenize(title))\n",
    "    pprint(tokens, tags, width=12)"
   ]
  },
  {
   "cell_type": "code",
   "execution_count": 12,
   "id": "9bbadd83-cef3-47de-bea1-94fa1db45511",
   "metadata": {},
   "outputs": [
    {
     "name": "stdout",
     "output_type": "stream",
     "text": [
      "Nước        |sông        |Bắc Hưng Hải|đen kịt     |\n",
      "N           |N           |Np          |M           |\n",
      "============================================================\n",
      "\n",
      "\n",
      "Lính        |Ukraine     |kể          |về          |đòn         |tập hậu     |của         |đặc nhiệm   |Nga         |ở           |Kharkov     |\n",
      "N           |Np          |V           |E           |N           |N           |E           |N           |Np          |E           |Np          |\n",
      "================================================================================================================================================\n",
      "\n",
      "\n",
      "Khen thưởng |4           |người       |cứu         |nạn nhân    |vụ          |cháy        |ở           |Trung Kính  |\n",
      "N           |M           |N           |V           |N           |N           |V           |E           |Np          |\n",
      "========================================================================================================================\n",
      "\n",
      "\n"
     ]
    }
   ],
   "source": [
    "for title in titles:\n",
    "    output = pos_tag(title)\n",
    "    tokens = [item[0] for item in output]\n",
    "    tags = [item[1] for item in output]\n",
    "    pprint(tokens, tags, width=12)"
   ]
  },
  {
   "cell_type": "code",
   "execution_count": null,
   "id": "628373b0-0fe3-4e0d-85f9-8c7cc807d30e",
   "metadata": {},
   "outputs": [],
   "source": []
  }
 ],
 "metadata": {
  "kernelspec": {
   "display_name": "Python 3 (ipykernel)",
   "language": "python",
   "name": "python3"
  },
  "language_info": {
   "codemirror_mode": {
    "name": "ipython",
    "version": 3
   },
   "file_extension": ".py",
   "mimetype": "text/x-python",
   "name": "python",
   "nbconvert_exporter": "python",
   "pygments_lexer": "ipython3",
   "version": "3.11.6"
  }
 },
 "nbformat": 4,
 "nbformat_minor": 5
}
