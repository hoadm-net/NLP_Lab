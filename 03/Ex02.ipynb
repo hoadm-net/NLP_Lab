{
 "cells": [
  {
   "cell_type": "code",
   "execution_count": 1,
   "id": "e126d85a-9a5f-454d-9de4-3b54f0578c6c",
   "metadata": {},
   "outputs": [],
   "source": [
    "import random\n",
    "from underthesea import pos_tag, word_tokenize"
   ]
  },
  {
   "cell_type": "code",
   "execution_count": 2,
   "id": "07f8781b-d2ea-43c3-979f-37ccc47a3bcb",
   "metadata": {},
   "outputs": [],
   "source": [
    "def pprint(tokens: list, tags: list, width=25) -> None:\n",
    "    for token in tokens:\n",
    "        print(token.ljust(width), end='|')\n",
    "    print()\n",
    "    for tag in tags:\n",
    "        print(tag.ljust(width), end='|')\n",
    "    print()\n",
    "    print(\"=\"*width*(len(tokens) + 1))\n",
    "    print('\\n')"
   ]
  },
  {
   "cell_type": "markdown",
   "id": "bd04152b-81b2-4f68-b307-b0a1af7007d5",
   "metadata": {},
   "source": [
    "# 1. Trộn dữ liệu, phân tích thử 1 chục câu:"
   ]
  },
  {
   "cell_type": "code",
   "execution_count": 3,
   "id": "08d32637-8135-4d09-b2a1-7aa40ba322aa",
   "metadata": {},
   "outputs": [],
   "source": [
    "with open('./data.txt', 'r') as fp:\n",
    "    data = [r.strip() for r in fp.readlines()]\n",
    "\n",
    "random.shuffle(data)"
   ]
  },
  {
   "cell_type": "code",
   "execution_count": 4,
   "id": "8f01bf6c-8932-42f0-9760-8da191664717",
   "metadata": {},
   "outputs": [
    {
     "name": "stdout",
     "output_type": "stream",
     "text": [
      "Món       |ăn        |tại       |nhà hàng  |rất       |ngon      |và        |được      |chế biến  |tinh tế   |,         |nhưng     |giá cả    |lại       |khá       |cao       |so        |với       |chất lượng|.         |\n",
      "N         |V         |E         |N         |R         |A         |C         |V         |V         |V         |CH        |C         |N         |V         |R         |A         |V         |E         |N         |CH        |\n",
      "==================================================================================================================================================================================================================\n",
      "\n",
      "\n",
      "\n",
      "Món       |ăn        |được      |chế biến  |ngon miệng|,         |nhưng     |không     |có        |nhiều     |món       |đặc biệt  |.         |\n",
      "N         |V         |R         |V         |V         |CH        |C         |R         |V         |A         |N         |A         |CH        |\n",
      "============================================================================================================================================\n",
      "\n",
      "\n",
      "\n",
      "Món       |ăn        |ngon      |và        |trình bày |đẹp       |,         |nhưng     |đôi khi   |quá       |mặn       |.         |\n",
      "N         |V         |A         |C         |V         |A         |CH        |C         |V         |R         |A         |CH        |\n",
      "==================================================================================================================================\n",
      "\n",
      "\n",
      "\n",
      "Khách sạn |có        |vị trí    |thuận lợi |,         |gần       |nhiều     |điểm      |tham quan |nổi tiếng |,         |nhưng     |lại       |khá       |xa        |trung tâm |thành phố |.         |\n",
      "N         |V         |N         |A         |CH        |A         |A         |N         |V         |A         |CH        |C         |R         |R         |A         |N         |N         |CH        |\n",
      "==============================================================================================================================================================================================\n",
      "\n",
      "\n",
      "\n",
      "Khách sạn |có        |dịch vụ   |xe        |đưa đón   |sân bay   |,         |nhưng     |lịch trình|không     |linh hoạt |.         |\n",
      "N         |V         |N         |N         |V         |N         |CH        |C         |V         |R         |V         |CH        |\n",
      "==================================================================================================================================\n",
      "\n",
      "\n",
      "\n"
     ]
    }
   ],
   "source": [
    "for i in range(10):\n",
    "    output = pos_tag(data[i])\n",
    "    tokens = [item[0] for item in output]\n",
    "    tags = [item[1] for item in output]\n",
    "    pprint(tokens, tags, width=10)\n",
    "    print()"
   ]
  },
  {
   "cell_type": "code",
   "execution_count": 5,
   "id": "2fc7c493-c238-4a24-b308-39defed441f9",
   "metadata": {},
   "outputs": [
    {
     "name": "stdout",
     "output_type": "stream",
     "text": [
      "Món ăn ngon và trình bày đẹp, nhưng khẩu phần không đồng đều\n",
      "Món ăn ngon và trình_bày đẹp , nhưng khẩu_phần không đồng_đều\n",
      "Món       |ăn        |ngon      |và        |trình bày |đẹp       |,         |nhưng     |khẩu phần |không     |đồng đều  |\n",
      "N         |V         |A         |C         |V         |A         |CH        |C         |V         |R         |V         |\n",
      "========================================================================================================================\n",
      "\n",
      "\n",
      "\n",
      "Món       |ăn        |ngon      |và        |trình_bày |đẹp       |,         |nhưng     |khẩu_phần |không     |đồng_đều  |\n",
      "N         |V         |A         |C         |N         |A         |CH        |C         |V         |R         |V         |\n",
      "========================================================================================================================\n",
      "\n",
      "\n",
      "\n"
     ]
    }
   ],
   "source": [
    "inp = \"Món ăn ngon và trình bày đẹp, nhưng khẩu phần không đồng đều\"\n",
    "tkn = word_tokenize(inp, format='text')\n",
    "\n",
    "data = [inp, tkn]\n",
    "print('\\n'.join(data))\n",
    "\n",
    "for d in data:\n",
    "    output = pos_tag(d)\n",
    "    tokens = [item[0] for item in output]\n",
    "    tags = [item[1] for item in output]\n",
    "    pprint(tokens, tags, width=10)\n",
    "    print()"
   ]
  },
  {
   "cell_type": "code",
   "execution_count": 6,
   "id": "c182aca9-3f93-4aa1-86a4-90f95cfdba43",
   "metadata": {},
   "outputs": [],
   "source": [
    "with open('./adj.txt', 'r') as fp:\n",
    "    data = []"
   ]
  },
  {
   "cell_type": "code",
   "execution_count": 7,
   "id": "ea4efece-5305-49f7-b8e4-4eb4f30ae896",
   "metadata": {},
   "outputs": [],
   "source": [
    "adj = {}\n",
    "\n",
    "with open('./adj.txt', 'r') as fp:\n",
    "    data = []"
   ]
  }
 ],
 "metadata": {
  "kernelspec": {
   "display_name": "Python 3 (ipykernel)",
   "language": "python",
   "name": "python3"
  },
  "language_info": {
   "codemirror_mode": {
    "name": "ipython",
    "version": 3
   },
   "file_extension": ".py",
   "mimetype": "text/x-python",
   "name": "python",
   "nbconvert_exporter": "python",
   "pygments_lexer": "ipython3",
   "version": "3.11.6"
  }
 },
 "nbformat": 4,
 "nbformat_minor": 5
}
