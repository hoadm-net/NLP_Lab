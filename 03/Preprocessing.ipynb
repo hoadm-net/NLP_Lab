{
 "cells": [
  {
   "cell_type": "code",
   "execution_count": 1,
   "id": "97497774-19d1-48f5-a512-6a0bcef36e68",
   "metadata": {},
   "outputs": [],
   "source": [
    "import pandas as pd\n",
    "from underthesea import word_tokenize\n",
    "from underthesea import pos_tag\n",
    "import re"
   ]
  },
  {
   "cell_type": "code",
   "execution_count": 2,
   "id": "40ce6dfa-ac73-4f2f-9501-a7832b1dc6fe",
   "metadata": {},
   "outputs": [],
   "source": [
    "with open ('./data.txt', 'r') as fp:\n",
    "    data = [row.strip() for row in fp.readlines()]"
   ]
  },
  {
   "cell_type": "code",
   "execution_count": 3,
   "id": "72908c83-c419-4563-a3a7-15127284aaa7",
   "metadata": {},
   "outputs": [],
   "source": [
    "adj_labels = ['A', 'Ap', 'Ar', 'Ao', 'Ai']\n",
    "verb_labels = ['V', 'Vi', 'Vt', 'Vs', 'Vr']\n",
    "\n",
    "adj = {}\n",
    "verb = {}\n",
    "\n",
    "for row in data:\n",
    "    score = 1\n",
    "    output = pos_tag(row)\n",
    "    for item in output:\n",
    "        word = item[0].strip().replace(' ', '_')\n",
    "        tag = item[1]\n",
    "        \n",
    "        # Adjective\n",
    "        if tag in adj_labels:\n",
    "            if word in adj.keys():\n",
    "                adj[word] += score\n",
    "            else:\n",
    "                adj[word] = score\n",
    "\n",
    "            continue  # skip verb section\n",
    "\n",
    "        # Verb\n",
    "        if tag in verb_labels:\n",
    "            if word in verb.keys():\n",
    "                verb[word] += score\n",
    "            else:\n",
    "                verb[word] = score"
   ]
  },
  {
   "cell_type": "code",
   "execution_count": 4,
   "id": "eddf30f3-7245-4a84-8c24-df76b7c31fec",
   "metadata": {},
   "outputs": [],
   "source": [
    "with open('./verb.txt', 'w+') as fp: \n",
    "    for w in sorted(verb.keys()):\n",
    "        fp.write(f\"{w},{verb[w]}\\n\")"
   ]
  },
  {
   "cell_type": "code",
   "execution_count": 5,
   "id": "e7292512-9af6-42b1-b22f-168564a43ee2",
   "metadata": {},
   "outputs": [],
   "source": [
    "with open('./adj.txt', 'w+') as fp: \n",
    "    for w in sorted(adj.keys()):\n",
    "        fp.write(f\"{w},{adj[w]}\\n\")"
   ]
  },
  {
   "cell_type": "code",
   "execution_count": null,
   "id": "cbabcf4c-5979-4d7e-9be6-cc372749f0ca",
   "metadata": {},
   "outputs": [],
   "source": []
  }
 ],
 "metadata": {
  "kernelspec": {
   "display_name": "Python 3 (ipykernel)",
   "language": "python",
   "name": "python3"
  },
  "language_info": {
   "codemirror_mode": {
    "name": "ipython",
    "version": 3
   },
   "file_extension": ".py",
   "mimetype": "text/x-python",
   "name": "python",
   "nbconvert_exporter": "python",
   "pygments_lexer": "ipython3",
   "version": "3.11.6"
  }
 },
 "nbformat": 4,
 "nbformat_minor": 5
}
