{
 "cells": [
  {
   "cell_type": "code",
   "execution_count": 1,
   "id": "97497774-19d1-48f5-a512-6a0bcef36e68",
   "metadata": {},
   "outputs": [],
   "source": [
    "import pandas as pd\n",
    "from underthesea import word_tokenize\n",
    "import re"
   ]
  },
  {
   "cell_type": "markdown",
   "id": "8add4888-3283-4acf-9d2c-039658efa575",
   "metadata": {},
   "source": [
    "# Phần 1\n",
    "Rút trích các review có độ dài đủ lớn"
   ]
  },
  {
   "cell_type": "code",
   "execution_count": 2,
   "id": "5ce37441-42f3-41ca-bfd6-44a4354677b5",
   "metadata": {},
   "outputs": [],
   "source": [
    "def process_str(input_str: str) -> str:\n",
    "    if not isinstance(input_str, str):\n",
    "        return ''\n",
    "\n",
    "    output_str = bytes(input_str, 'utf-8').decode('utf-8', 'ignore').strip()\n",
    "    output_str = word_tokenize(input_str, format='text')\n",
    "    output_str = output_str.replace(\",\", \" , \")\n",
    "    output_str = output_str.replace(\"!\", \" ! \")\n",
    "    output_str = re.sub(r\"\\s{2,}\", \" \", output_str)\n",
    "    return output_str.strip().lower()\n",
    "\n",
    "\n",
    "def wc_func(input_str: str) -> int:\n",
    "    return len(input_str.split())\n"
   ]
  },
  {
   "cell_type": "code",
   "execution_count": 3,
   "id": "78ae9b6f-c9ab-48ac-abf3-db26b8a662d5",
   "metadata": {},
   "outputs": [
    {
     "data": {
      "text/html": [
       "<div>\n",
       "<style scoped>\n",
       "    .dataframe tbody tr th:only-of-type {\n",
       "        vertical-align: middle;\n",
       "    }\n",
       "\n",
       "    .dataframe tbody tr th {\n",
       "        vertical-align: top;\n",
       "    }\n",
       "\n",
       "    .dataframe thead th {\n",
       "        text-align: right;\n",
       "    }\n",
       "</style>\n",
       "<table border=\"1\" class=\"dataframe\">\n",
       "  <thead>\n",
       "    <tr style=\"text-align: right;\">\n",
       "      <th></th>\n",
       "      <th>content</th>\n",
       "      <th>label</th>\n",
       "      <th>start</th>\n",
       "    </tr>\n",
       "  </thead>\n",
       "  <tbody>\n",
       "    <tr>\n",
       "      <th>0</th>\n",
       "      <td>Áo bao đẹp ạ!</td>\n",
       "      <td>POS</td>\n",
       "      <td>5</td>\n",
       "    </tr>\n",
       "    <tr>\n",
       "      <th>1</th>\n",
       "      <td>Tuyệt vời</td>\n",
       "      <td>POS</td>\n",
       "      <td>5</td>\n",
       "    </tr>\n",
       "    <tr>\n",
       "      <th>2</th>\n",
       "      <td>2day ao khong giong trong</td>\n",
       "      <td>NEG</td>\n",
       "      <td>1</td>\n",
       "    </tr>\n",
       "    <tr>\n",
       "      <th>3</th>\n",
       "      <td>Mùi thơm,bôi lên da mềm da</td>\n",
       "      <td>POS</td>\n",
       "      <td>5</td>\n",
       "    </tr>\n",
       "    <tr>\n",
       "      <th>4</th>\n",
       "      <td>Vải đẹp, dày dặn</td>\n",
       "      <td>POS</td>\n",
       "      <td>5</td>\n",
       "    </tr>\n",
       "  </tbody>\n",
       "</table>\n",
       "</div>"
      ],
      "text/plain": [
       "                      content label  start\n",
       "0               Áo bao đẹp ạ!   POS      5\n",
       "1                   Tuyệt vời   POS      5\n",
       "2   2day ao khong giong trong   NEG      1\n",
       "3  Mùi thơm,bôi lên da mềm da   POS      5\n",
       "4            Vải đẹp, dày dặn   POS      5"
      ]
     },
     "execution_count": 3,
     "metadata": {},
     "output_type": "execute_result"
    }
   ],
   "source": [
    "df = pd.read_csv('./raw.csv')\n",
    "df.head()"
   ]
  },
  {
   "cell_type": "code",
   "execution_count": 4,
   "id": "e6c02e74-63af-4cb0-8cdf-aa2bcc1eef13",
   "metadata": {},
   "outputs": [
    {
     "name": "stdout",
     "output_type": "stream",
     "text": [
      "<class 'pandas.core.frame.DataFrame'>\n",
      "RangeIndex: 31460 entries, 0 to 31459\n",
      "Data columns (total 3 columns):\n",
      " #   Column   Non-Null Count  Dtype \n",
      "---  ------   --------------  ----- \n",
      " 0   content  31436 non-null  object\n",
      " 1   label    31460 non-null  object\n",
      " 2   start    31460 non-null  int64 \n",
      "dtypes: int64(1), object(2)\n",
      "memory usage: 737.5+ KB\n"
     ]
    }
   ],
   "source": [
    "df.info()"
   ]
  },
  {
   "cell_type": "code",
   "execution_count": 5,
   "id": "ae144117-1f37-4860-8d26-c9fa6bab75e8",
   "metadata": {},
   "outputs": [
    {
     "data": {
      "text/html": [
       "<div>\n",
       "<style scoped>\n",
       "    .dataframe tbody tr th:only-of-type {\n",
       "        vertical-align: middle;\n",
       "    }\n",
       "\n",
       "    .dataframe tbody tr th {\n",
       "        vertical-align: top;\n",
       "    }\n",
       "\n",
       "    .dataframe thead th {\n",
       "        text-align: right;\n",
       "    }\n",
       "</style>\n",
       "<table border=\"1\" class=\"dataframe\">\n",
       "  <thead>\n",
       "    <tr style=\"text-align: right;\">\n",
       "      <th></th>\n",
       "      <th>content</th>\n",
       "      <th>label</th>\n",
       "      <th>start</th>\n",
       "      <th>clean_data</th>\n",
       "      <th>wc</th>\n",
       "    </tr>\n",
       "  </thead>\n",
       "  <tbody>\n",
       "    <tr>\n",
       "      <th>0</th>\n",
       "      <td>Áo bao đẹp ạ!</td>\n",
       "      <td>POS</td>\n",
       "      <td>5</td>\n",
       "      <td>áo bao đẹp ạ !</td>\n",
       "      <td>5</td>\n",
       "    </tr>\n",
       "    <tr>\n",
       "      <th>1</th>\n",
       "      <td>Tuyệt vời</td>\n",
       "      <td>POS</td>\n",
       "      <td>5</td>\n",
       "      <td>tuyệt_vời</td>\n",
       "      <td>1</td>\n",
       "    </tr>\n",
       "    <tr>\n",
       "      <th>2</th>\n",
       "      <td>2day ao khong giong trong</td>\n",
       "      <td>NEG</td>\n",
       "      <td>1</td>\n",
       "      <td>2 day ao khong_giong trong</td>\n",
       "      <td>5</td>\n",
       "    </tr>\n",
       "    <tr>\n",
       "      <th>3</th>\n",
       "      <td>Mùi thơm,bôi lên da mềm da</td>\n",
       "      <td>POS</td>\n",
       "      <td>5</td>\n",
       "      <td>mùi thơm , bôi lên da mềm da</td>\n",
       "      <td>8</td>\n",
       "    </tr>\n",
       "    <tr>\n",
       "      <th>4</th>\n",
       "      <td>Vải đẹp, dày dặn</td>\n",
       "      <td>POS</td>\n",
       "      <td>5</td>\n",
       "      <td>vải đẹp , dày dặn</td>\n",
       "      <td>5</td>\n",
       "    </tr>\n",
       "  </tbody>\n",
       "</table>\n",
       "</div>"
      ],
      "text/plain": [
       "                      content label  start                    clean_data  wc\n",
       "0               Áo bao đẹp ạ!   POS      5                áo bao đẹp ạ !   5\n",
       "1                   Tuyệt vời   POS      5                     tuyệt_vời   1\n",
       "2   2day ao khong giong trong   NEG      1    2 day ao khong_giong trong   5\n",
       "3  Mùi thơm,bôi lên da mềm da   POS      5  mùi thơm , bôi lên da mềm da   8\n",
       "4            Vải đẹp, dày dặn   POS      5             vải đẹp , dày dặn   5"
      ]
     },
     "execution_count": 5,
     "metadata": {},
     "output_type": "execute_result"
    }
   ],
   "source": [
    "df['clean_data'] = df['content'].apply(process_str)\n",
    "df['wc'] = df['clean_data'].apply(wc_func)\n",
    "df.head()"
   ]
  },
  {
   "cell_type": "code",
   "execution_count": 6,
   "id": "46a8a17c-0eba-46ab-a509-57b8ab1556d7",
   "metadata": {},
   "outputs": [
    {
     "data": {
      "text/html": [
       "<div>\n",
       "<style scoped>\n",
       "    .dataframe tbody tr th:only-of-type {\n",
       "        vertical-align: middle;\n",
       "    }\n",
       "\n",
       "    .dataframe tbody tr th {\n",
       "        vertical-align: top;\n",
       "    }\n",
       "\n",
       "    .dataframe thead th {\n",
       "        text-align: right;\n",
       "    }\n",
       "</style>\n",
       "<table border=\"1\" class=\"dataframe\">\n",
       "  <thead>\n",
       "    <tr style=\"text-align: right;\">\n",
       "      <th></th>\n",
       "      <th>start</th>\n",
       "      <th>wc</th>\n",
       "    </tr>\n",
       "  </thead>\n",
       "  <tbody>\n",
       "    <tr>\n",
       "      <th>count</th>\n",
       "      <td>31460.000000</td>\n",
       "      <td>31460.000000</td>\n",
       "    </tr>\n",
       "    <tr>\n",
       "      <th>mean</th>\n",
       "      <td>3.736840</td>\n",
       "      <td>9.037953</td>\n",
       "    </tr>\n",
       "    <tr>\n",
       "      <th>std</th>\n",
       "      <td>1.382483</td>\n",
       "      <td>7.576308</td>\n",
       "    </tr>\n",
       "    <tr>\n",
       "      <th>min</th>\n",
       "      <td>1.000000</td>\n",
       "      <td>0.000000</td>\n",
       "    </tr>\n",
       "    <tr>\n",
       "      <th>25%</th>\n",
       "      <td>3.000000</td>\n",
       "      <td>4.000000</td>\n",
       "    </tr>\n",
       "    <tr>\n",
       "      <th>50%</th>\n",
       "      <td>4.000000</td>\n",
       "      <td>7.000000</td>\n",
       "    </tr>\n",
       "    <tr>\n",
       "      <th>75%</th>\n",
       "      <td>5.000000</td>\n",
       "      <td>12.000000</td>\n",
       "    </tr>\n",
       "    <tr>\n",
       "      <th>max</th>\n",
       "      <td>5.000000</td>\n",
       "      <td>78.000000</td>\n",
       "    </tr>\n",
       "  </tbody>\n",
       "</table>\n",
       "</div>"
      ],
      "text/plain": [
       "              start            wc\n",
       "count  31460.000000  31460.000000\n",
       "mean       3.736840      9.037953\n",
       "std        1.382483      7.576308\n",
       "min        1.000000      0.000000\n",
       "25%        3.000000      4.000000\n",
       "50%        4.000000      7.000000\n",
       "75%        5.000000     12.000000\n",
       "max        5.000000     78.000000"
      ]
     },
     "execution_count": 6,
     "metadata": {},
     "output_type": "execute_result"
    }
   ],
   "source": [
    "df.describe()"
   ]
  },
  {
   "cell_type": "code",
   "execution_count": 7,
   "id": "9e498eeb-cbdb-4606-b6a2-c7596a11e34e",
   "metadata": {},
   "outputs": [
    {
     "data": {
      "text/html": [
       "<div>\n",
       "<style scoped>\n",
       "    .dataframe tbody tr th:only-of-type {\n",
       "        vertical-align: middle;\n",
       "    }\n",
       "\n",
       "    .dataframe tbody tr th {\n",
       "        vertical-align: top;\n",
       "    }\n",
       "\n",
       "    .dataframe thead th {\n",
       "        text-align: right;\n",
       "    }\n",
       "</style>\n",
       "<table border=\"1\" class=\"dataframe\">\n",
       "  <thead>\n",
       "    <tr style=\"text-align: right;\">\n",
       "      <th></th>\n",
       "      <th>content</th>\n",
       "      <th>label</th>\n",
       "      <th>start</th>\n",
       "      <th>clean_data</th>\n",
       "      <th>wc</th>\n",
       "    </tr>\n",
       "  </thead>\n",
       "  <tbody>\n",
       "    <tr>\n",
       "      <th>25</th>\n",
       "      <td>Áo quá đẹp luôn nếu không muốn nói là đẹp, may...</td>\n",
       "      <td>POS</td>\n",
       "      <td>5</td>\n",
       "      <td>áo quá đẹp luôn nếu không muốn nói là đẹp , ma...</td>\n",
       "      <td>30</td>\n",
       "    </tr>\n",
       "    <tr>\n",
       "      <th>55</th>\n",
       "      <td>Đẹp, chất mềm mại mặc rất thích, chủ shop nhiệ...</td>\n",
       "      <td>POS</td>\n",
       "      <td>5</td>\n",
       "      <td>đẹp , chất mềm_mại mặc rất thích , chủ_shop nh...</td>\n",
       "      <td>25</td>\n",
       "    </tr>\n",
       "    <tr>\n",
       "      <th>99</th>\n",
       "      <td>Shop phục vụ rất tốt, hết mẫu mình đặt còn gọi...</td>\n",
       "      <td>POS</td>\n",
       "      <td>5</td>\n",
       "      <td>shop phục_vụ rất tốt , hết mẫu mình đặt còn gọ...</td>\n",
       "      <td>32</td>\n",
       "    </tr>\n",
       "    <tr>\n",
       "      <th>114</th>\n",
       "      <td>Chủ shop tư vấn rất nhiệt tình, đầm lên form r...</td>\n",
       "      <td>POS</td>\n",
       "      <td>5</td>\n",
       "      <td>chủ shop tư_vấn rất nhiệt_tình , đầm lên form ...</td>\n",
       "      <td>22</td>\n",
       "    </tr>\n",
       "    <tr>\n",
       "      <th>124</th>\n",
       "      <td>Chất lượng sản phẩm tuyệt vời Đóng gói sản phẩ...</td>\n",
       "      <td>POS</td>\n",
       "      <td>5</td>\n",
       "      <td>chất_lượng sản_phẩm tuyệt_vời đóng_gói sản_phẩ...</td>\n",
       "      <td>23</td>\n",
       "    </tr>\n",
       "  </tbody>\n",
       "</table>\n",
       "</div>"
      ],
      "text/plain": [
       "                                               content label  start  \\\n",
       "25   Áo quá đẹp luôn nếu không muốn nói là đẹp, may...   POS      5   \n",
       "55   Đẹp, chất mềm mại mặc rất thích, chủ shop nhiệ...   POS      5   \n",
       "99   Shop phục vụ rất tốt, hết mẫu mình đặt còn gọi...   POS      5   \n",
       "114  Chủ shop tư vấn rất nhiệt tình, đầm lên form r...   POS      5   \n",
       "124  Chất lượng sản phẩm tuyệt vời Đóng gói sản phẩ...   POS      5   \n",
       "\n",
       "                                            clean_data  wc  \n",
       "25   áo quá đẹp luôn nếu không muốn nói là đẹp , ma...  30  \n",
       "55   đẹp , chất mềm_mại mặc rất thích , chủ_shop nh...  25  \n",
       "99   shop phục_vụ rất tốt , hết mẫu mình đặt còn gọ...  32  \n",
       "114  chủ shop tư_vấn rất nhiệt_tình , đầm lên form ...  22  \n",
       "124  chất_lượng sản_phẩm tuyệt_vời đóng_gói sản_phẩ...  23  "
      ]
     },
     "execution_count": 7,
     "metadata": {},
     "output_type": "execute_result"
    }
   ],
   "source": [
    "new_df = df[(df['wc'] > 20) & (df['label'] != 'NEU')]\n",
    "new_df.head()"
   ]
  },
  {
   "cell_type": "code",
   "execution_count": 8,
   "id": "d3571c23-495b-425b-935c-95200d286ac8",
   "metadata": {},
   "outputs": [
    {
     "name": "stdout",
     "output_type": "stream",
     "text": [
      "<class 'pandas.core.frame.DataFrame'>\n",
      "Index: 2215 entries, 25 to 31444\n",
      "Data columns (total 5 columns):\n",
      " #   Column      Non-Null Count  Dtype \n",
      "---  ------      --------------  ----- \n",
      " 0   content     2215 non-null   object\n",
      " 1   label       2215 non-null   object\n",
      " 2   start       2215 non-null   int64 \n",
      " 3   clean_data  2215 non-null   object\n",
      " 4   wc          2215 non-null   int64 \n",
      "dtypes: int64(2), object(3)\n",
      "memory usage: 103.8+ KB\n"
     ]
    }
   ],
   "source": [
    "new_df.info()"
   ]
  },
  {
   "cell_type": "code",
   "execution_count": 9,
   "id": "86b637f4-f516-4014-932d-1432381998bc",
   "metadata": {},
   "outputs": [],
   "source": [
    "output_df = new_df[['clean_data','label']]\n",
    "output_df.rename(columns={\"clean_data\": \"text\", \"label\": \"label\"})\n",
    "output_df.to_csv('clean_data.csv', index=False)"
   ]
  },
  {
   "cell_type": "markdown",
   "id": "a11eca64-fd5b-411b-ae65-fc25e3155056",
   "metadata": {},
   "source": [
    "# Phần 2\n",
    "Xây dựng từ điển\n",
    "\n",
    "1. Rút trích các từ được gán nhãn tính từ\n",
    "2. Rút trích các từ được gán nhãn động từ\n",
    "3. gán thủ công :)"
   ]
  },
  {
   "cell_type": "code",
   "execution_count": 10,
   "id": "b96dcb8c-520b-43a4-ad5e-ce79ec3e9b40",
   "metadata": {},
   "outputs": [
    {
     "data": {
      "text/html": [
       "<div>\n",
       "<style scoped>\n",
       "    .dataframe tbody tr th:only-of-type {\n",
       "        vertical-align: middle;\n",
       "    }\n",
       "\n",
       "    .dataframe tbody tr th {\n",
       "        vertical-align: top;\n",
       "    }\n",
       "\n",
       "    .dataframe thead th {\n",
       "        text-align: right;\n",
       "    }\n",
       "</style>\n",
       "<table border=\"1\" class=\"dataframe\">\n",
       "  <thead>\n",
       "    <tr style=\"text-align: right;\">\n",
       "      <th></th>\n",
       "      <th>clean_data</th>\n",
       "      <th>label</th>\n",
       "    </tr>\n",
       "  </thead>\n",
       "  <tbody>\n",
       "    <tr>\n",
       "      <th>0</th>\n",
       "      <td>áo quá đẹp luôn nếu không muốn nói là đẹp , ma...</td>\n",
       "      <td>POS</td>\n",
       "    </tr>\n",
       "    <tr>\n",
       "      <th>1</th>\n",
       "      <td>đẹp , chất mềm_mại mặc rất thích , chủ_shop nh...</td>\n",
       "      <td>POS</td>\n",
       "    </tr>\n",
       "    <tr>\n",
       "      <th>2</th>\n",
       "      <td>shop phục_vụ rất tốt , hết mẫu mình đặt còn gọ...</td>\n",
       "      <td>POS</td>\n",
       "    </tr>\n",
       "    <tr>\n",
       "      <th>3</th>\n",
       "      <td>chủ shop tư_vấn rất nhiệt_tình , đầm lên form ...</td>\n",
       "      <td>POS</td>\n",
       "    </tr>\n",
       "    <tr>\n",
       "      <th>4</th>\n",
       "      <td>chất_lượng sản_phẩm tuyệt_vời đóng_gói sản_phẩ...</td>\n",
       "      <td>POS</td>\n",
       "    </tr>\n",
       "  </tbody>\n",
       "</table>\n",
       "</div>"
      ],
      "text/plain": [
       "                                          clean_data label\n",
       "0  áo quá đẹp luôn nếu không muốn nói là đẹp , ma...   POS\n",
       "1  đẹp , chất mềm_mại mặc rất thích , chủ_shop nh...   POS\n",
       "2  shop phục_vụ rất tốt , hết mẫu mình đặt còn gọ...   POS\n",
       "3  chủ shop tư_vấn rất nhiệt_tình , đầm lên form ...   POS\n",
       "4  chất_lượng sản_phẩm tuyệt_vời đóng_gói sản_phẩ...   POS"
      ]
     },
     "execution_count": 10,
     "metadata": {},
     "output_type": "execute_result"
    }
   ],
   "source": [
    "df = pd.read_csv('./clean_data.csv')\n",
    "df.head()"
   ]
  },
  {
   "cell_type": "code",
   "execution_count": 11,
   "id": "72908c83-c419-4563-a3a7-15127284aaa7",
   "metadata": {},
   "outputs": [],
   "source": [
    "from underthesea import pos_tag\n",
    "\n",
    "adj_labels = ['A', 'Ap', 'Ar', 'Ao', 'Ai']\n",
    "verb_labels = ['V', 'Vi', 'Vt', 'Vs', 'Vr']\n",
    "\n",
    "adj = {}\n",
    "verb = {}\n",
    "\n",
    "for index, row in df.iterrows():\n",
    "    data = row['clean_data']\n",
    "    label = row['label']\n",
    "    score = 1\n",
    "    if label == 'NEG':\n",
    "        score = -1\n",
    "    \n",
    "    output = pos_tag(data)\n",
    "    for item in output:\n",
    "        word = item[0].strip()\n",
    "        tag = item[1]\n",
    "        \n",
    "        # Adjective\n",
    "        if tag in adj_labels:\n",
    "            if word in adj.keys():\n",
    "                adj[word] += score\n",
    "            else:\n",
    "                adj[word] = score\n",
    "\n",
    "            continue  # skip verb section\n",
    "\n",
    "        # Verb\n",
    "        if tag in verb_labels:\n",
    "            if word in verb.keys():\n",
    "                verb[word] += score\n",
    "            else:\n",
    "                verb[word] = score"
   ]
  },
  {
   "cell_type": "code",
   "execution_count": 12,
   "id": "eddf30f3-7245-4a84-8c24-df76b7c31fec",
   "metadata": {},
   "outputs": [
    {
     "name": "stdout",
     "output_type": "stream",
     "text": [
      "{'đẹp': 1482, 'may': 6, 'mới': 4, 'trắng': -11, 'tốt': 758, 'nhanh': 795, 'khác': -12, 'cao': 9, 'hơn': 79, 'oke': 1, 'nhiệt_tình': 33, 'hợp': 1, 'nhanh_': 5, 'ổn': 38, 'đậm': 7, 'xấu': -24, 'dài': 57, 'ok': 44, 'hài_lòng': 22, 'sạch': 5, 'dễ': 9, 'đúng': 24, 'giống': 1, 'to': 11, 'bé': 3, 'bẩn': 5, 'xanh': 3, 'gần': 2, '😐': 1, 'dằm': 1, 'chật': -5, 'nhiều': 58, 'lớn': 5, 'rộng': 29, 'kém_shop phục_vụ': -7, 'kém': -101, 'rẻ': 57, 'đắt': 8, 'mịn': 6, 'tạm': -3, 'dày': 13, 'đc': 2, 'nhanh.con': 1, 'chuẩn': 5, 'tốt_shop': 80, 'đánh_giá': 2, 'sẵn': 1, 'buồn': 2, 'shop': 0, 'nhanh_shop': 14, 'nguyên': -1, 'khô_hon': 1, 'mỏng': 22, 'đen': -9, 'nói_tóm_lại': -1, 'tệ_hại': -1, 'nhẹ': 17, 'ổn_hợp': 1, 'đỏ': 0, 'thô': -5, 'nhỏ': 24, 'gọn': 6, 'oki': 1, 'tây_nha': 1, 'tròn': 3, 'xinh': 26, 'ưng': 26, 'tren_vai': -1, 'khô': 2, 'cứng': -6, 'dễ_thương': 12, 'vui': 4, 'cực': 15, 'nóng': 3, 'mà_còn mát': 1, 'nhanh_túi': 1, 'xịn': 4, 'xám': 0, 'mềm': 22, 'khó': 6, 'tuyệt': 4, 'khó_chịu': -4, 'hỏng': -1, 'cùng': -7, 'tốt_shop phục_vụ': 55, 'hàng_ưng': 1, 'y_hình': 2, 'mờ': 0, 'rõ': 3, 'ngon': 9, 'nhanh.em': 1, 'ngang': -3, 'nặng': 5, 'chậm': 6, 'vớ_vẩn': -1, 'lâu': 18, 'ý': 3, 'siêu_sung_sướng': 1, 'váy': 2, 'dễ_thương như_vậy': 1, 'mát': 29, 'cưng kinh_khủng': 1, 'ko_nhăn': 1, 'an_toàn': 1, 'sai': -11, 'tím': 1, 'kỹ': -3, 'móp': -3, 'giàu': -1, 'thật': -1, 'ngắn': 1, 'lạnh': 4, 'tử_tế': 1, 'ghê': 3, 'cute': 4, 'xa': 1, 'z_shop': -1, 'tầm_tầm': -1, 'quần_đẹp như_vậy': 1, 'đủ': -8, 'ko': -4, 'tin_tưởng': 2, 'cổ': -3, 'cũ': -5, 'nhất': 2, ':) quần_đẹp': 1, 'bận': 0, 'chắc_chắn': 0, 'béo': 1, 'lâu_xíu': 1, 'ẩu': 0, 'tôn_dáng': 1, 'thoải_mái': 8, 'mông': 1, 'vàng': 2, 'nghiêm': -1, 'sâu': 3, 'k ưng_í': -1, 'tệ': -19, 'order': 1, 'ưng_ý': 19, 'nhah': 1, 'giống_hình': 0, 'kín': 3, 'vừa': 2, 'già': 0, 'ấm': 3, 'nthe': 0, 'cụt': 0, 'nhanh_shop phục_vụ': 5, 'hối_hận': -1, 'xui': 1, 'chất_lượng sản_phẩm': 1, 'chắc': 3, 'tuyệt_đóng_gói sản_phẩm': 1, 'phàng': -1, 'cực_kì': 1, 'nực': -1, ':)))': -2, 'cám_ơn': 1, 'thẳng': 0, 'kĩ': 5, 'sản_phẩm': 3, 'tuyệt_vời': 3, 'uy_tín': 1, 'phục_vụ': -1, 'nhanh_ ❤': 5, 'đẹp_nha': 2, 'sẫm': 0, 'lệch': 1, 'nhanh_hàng': 1, 'kì_cục': -2, 'khó_khăn': -2, 'góp_ý': -1, 'nồng': -1, 'chặt': 1, 'dơ': -1, 'đẹp_shop': -1, 'sáng': 3, 'thất_vọng': -10, 'làm_ăn': -1, 'hời_nha': 1, 'dài_nha': 1, 'dày_dặn': 6, 'yếu': 0, 'phiền': -1, 'thiếu': 0, 'để_ý': 2, 'gầy': 2, 'chật ống_chân': -1, 'xíu': 4, 'tín': -1, 'thực': -1, 'phải': 0, 'nhanh_đáng': 1, 'xl': 1, 'khít': 3, 'thơm': 7, 'dịu': 1, 'có_lẽ ok': 1, 'sexy': 3, 'trắng vải_ok': -1, 'méo': -1, 'k_lì': 1, 'đầy': -8, 'ảo': 1, 'vui_ve': 1, 'khuya': 1, 'navy': -1, 'mau': -8, 'va_trang': -1, 'hư': -4, 'hữu_ích': 1, 'tồi_tệ': -2, 'đẹp y_hình': 1, 'bẩn_xí': 1, 'nơ': 1, 'tươi': 4, 'nhanh_ ^': 2, 'nhỏ_thiệt': 1, 'bự': 0, 'giả': 2, 'cẩn_thận': 3, 'sò': 1, 'trung': 1, 'hoang_mang': 1, 'trong': 2, 'đc_ý': 1, 'nhanh_date': 1, 'hôi': -2, 'sp': -1, 'thật_vong': -1, 'thân': 2, 'cảm_giác': 1, 'k': -2, 'tí': -2, 'hời': 1, 'nâu': 4, 't': 1, 'ưng_': 1, 'mall': -1, 'x': 1, 'đông': 1, 'nhăn_nhẹ': 1, 'kịp': -1, 'cay': 1, 'mặn': 1, 'ít': 6, 'bụg': 1, 'lỏng_lẻo': -1, 'chất_lượng': 1, 'hàng_đẹp': 1, 'dư': 1, 'hài_lòg': -1, 'bn': -1, 'nha_ưng': 1, 'gấp': 1, 'rộng_xíu': 1, 'mk': 1, 'tệ_xét': 1, 'tuyệt_ngaaa': 1, 'f1': 1, 'chất': 1, 'trực_tiếp': 1, '😅': 1, '😂': 1, 'nhiệt_tình ❤': 1, 'tệ chất_lượng': -1, 'nát': -2, 'chung': 12, 'h': 1, 'thoáng': 1, 'quần_ngắn': -1, 'rêu': -1, 'nhanh_vải mặc_mát': 1, '😡 _': -1, 'chất_hơi ngứa_chút': 1, 'lì': 2, 'mạnh': 3, 'trách_sao': 1, 'bt': -1, 'tai_zin': -1, 'size': -1, 'sai_số': -1, 'tốt tư_vấn': 1, 'rách': -7, 'xxl': 1, 'bình_thường': 1, 'riêng': 1, 'chú_ý': 0, 'cờ_anh': -1, 'ẩm_ướt': -1, 'nhanh_chóng': 2, 'đẹp_giá': 1, 'chu_đáo ❤': 1, 'khoảng': 2, 'mập': 3, 'quần_xinh': 2, 'khí cử_động': -1, 'thối': -1, 'ghê_nha shop': 1, 'lạ': 1, 'cug_ko': 1, 'sướng': 2, 'tối': 2, 'mặc_mát': 1, 'k_đủ': -1, 'lai': -2, 'tận_tình': 3, 'trẻ': 0, 'co_giãn': 2, 'khéo': 1, 'nhạt': 2, 'thật_sự': 1, 'ê': -1, 'chậm_shop phục_vụ': -1, 'như_thế': -1, 'xung_quanh miệng': -1, 'miễn_phí': 1, 'ngoại_mạng': 1, 'sậm': 1, 'mềm_mại': 2, 'dễ_chịu': 4, 'vui_tính': 1, 'va lạ_nua': 1, 'nhiệt_tinh_tu': 1, 'nguyên_kiện': -1, 'thất_vọng_xíu': 1, 'dã_man': -1, 'thô_ráp': -1, 'quần_đẹp': 1, 'tệ_k': -1, 'đẹp_ :)': 1, 'mê dã_man': 1, 'quần_rách': -1, 'thất_đức': -1, 'tốt_tu': 1, 'giẻ_lau': -1, 'trầm_thơm': 1, 'body': 1, 'lâu_tí': 1, 'mượt': 3, 'trả_lời': -1, 'mỏng_manh': -2, 'trọng': 1, 'nhanh.cam': 1, 'sát_mí': -1, 'sát_đằng': -1, 'nhiệt_tình đổi': 1, 'nhanh.sp': 1, 'tùm_lum': -1, 'lỏng': 2, 'che_phủ': 1, 'hài_lòng 👍': 1, '_y trang_hình': 1, 'sơ_sài': 0, 'tháo thanh_nối': 1, 'mệt': -1, 'tận_tâm': 1, 'trẻ_em': 1, 'bền': 1, 'bụi': -1, 'đắc_nha': 1, 'tuyệt_chỉ': 2, 'hong': 2, 'mất_dáng': -1, 'nylon': -1, 'ngược': -1, 'xấu_chất': -1, 'lởm': -1, 'nhiệt_tình 😍': 1, 'tạn_dc': -1, 'nhẹ_nhàng': 1, 'quai_cứng': 1, 'chật_tý': 1, 'nhanh ngoài_ra': 1, 'dơ_nhìu': 1, 'nghiêm_trọng': -1, '_son': 1, 'nát_xíu': 1, 'đảm_bảo': -1, 'căng': 1, 'hịn': 1, 'nhanh_và': 1, 'sf': 1, 'kĩ_tính': 1, 'e_dè': 1, 'thế_này': 1, ':))': -3, 'như_vậy': 1, 'bỏng': -1, 'nhanh_ 😋': 1, 'quần': 0, 'sát': -1, 'chuẩn_xác': 1, 'bậy': -1, 'hoàn_thiện kém': 1, 'ngọc': 1, 'chấm_bi': -1, 'lười': 1, 'oan_ức': 1, 'nhanh_áo': 2, 'hình_đẹp': 1, 'thời_trang': 1, 'thủng': -2, 'mỏng_may': 1, 'tuyệt_vải': 1, 'khó_tính': 1, 'dai': 1, 'coban': 1, 'kémchất_lượng sản_phẩm': -1, 'rởm': -1, 'ok_lun': 1, 'tốt_shop uy_tín': 1, 'dỡ': -1, 'rach': -1, 'hậu': -1, 'đắt_ :))': -1, 'thấp': 0, 'bó': 1, 'nha_sop': 1, 'hợp túi_tiền': 1, 'nhờn_rít': 1, 'quần_jeans': -1, 'áo_ok': 1, '😁': 1, 'chất_thích': 1, 'sơmi': 1, 'kỹ_tính': 1, 'thảm': -1, 'j': 0, 'hiệu_quả': -1, 'tệ_quần': -1, 'trc': -1, 'tiện_lợi': 2, '92': -1, 'mềm_mịn': 0, 'k_kỹ': 1, 'tốt_chất dày_dặn': 1, 'mong_đợi': 1, 'hớt_cộc': -1, 'ướt': -1, 'liền': -1, 'ngọt': 3, 'mờ_mờ': -1, 'nhanh.shop': 1, 'trái': -1, 'dữ': 1, 'miết': 1, 'luon': 1, 'ngạc_nhiên đồ': 1, 'tôn_body': 1, 'vải_thích': 1, 'nhanh_cực': 1, 'tt': 1, 'than': -1, 'nham_nhở': -1, 'áo_dơ': -1, 'chu_đáo': 2, 'ưng sản_phẩm': 1, 'phủ_gối': 1, 'trắng_tinh': -1, 'cơ_tay': 1, 'trầu': -1, 'no': 0, 'bất_ngờ': 1, 'hồng_chóe': -1, 'hihihihi': 1, 'mềm như_vậy': -1, 'mặc_ok': 1, 'thân_thiện': 3, 'tuyệt_vờiiiii': 1, 'nhanh 👍': 1, 'nhanh_be': 1, 'mấy_viên ngọc_trai': 1, 'nhieu': 1, 'trẻ_con': 1, 'ok_tiếc': 1, 'hoàn_tiền': -1, 'phất_phới': -1, 'thơm_thích': 1, 'yên_tâm': 1, 'bút_xinh': 1, 'chất_lượng ok': 1, 's': -1, 'to_wa': -1, 'cân_nhắc': -1, 'dc': -1, 'tẹo': -1, 'thương_shop': 1, 'kate': 1, 'cố_gắng': 1, 'tâm': 1, 'tab': 1, 'ok_chất dầy': 1, 'dùm': 1, 'đau': -1, 'gr': -1, 'nhiệt_tình tư_vấn': 1, 'cúc': 1, 'thênh_thang': -1, 'chug_k': -1, 'kích_xíu': 1, 'thích_xíu': 1, 'thôi_mập': 1, 'giầy': -1, 'suốt': 2, 'feedback': 1, 'đẹp dày_dặn': 1, 'vội': 1, 'siêu_thơm': 1, 'tr': 1, 'máy_tính': 1, 'nhanh 📨': 1, 'bảo_thơm': 1, 'khắp': 1, 'lun': 2, 'ngắn_hem': 1, '❤': 1, 'ngọt_lun': -1, '--': -1, 'êm_chân': 1, 'bất_lịch_sự': -1, 'thừa': -2, 'zít': 1, 'xéo': -1, 'kì': -2, 'thiệt': 1, 'sờ_thích': 1, 'y_như hình': 1, 'chu_đáo nha_hehe': 1, 'dương_xỉ mát': 1, 'ngắn vòng_kiềng': 1, 'miên_man': 1, 'thích_shop': 1, 'nhanh ❤': 1, 'nhanh ^': 1, 'nhưg': -1, 'đăng_ảnh': -1, 'này-ren': -1, 'động_viên': 1, '38': 1, '🙃 nhuốt': -1, 'mềm_môi': 1, 'mỏng_xíu': 1, 'ưng_ý sản_phẩm': 1, 'nhiêu_ ^': 1, 'lừa_đảo': -1, 'l1': 1, 'hay': 1, 'thay_thế': -1, 'qá': 1, 'điện_thoại': 1, 'vuông': -1, 'cong': -2, 'giảm_giá': 1, 'rảnh': 1, 'uy_tin': 1, 'cá_chân': 1, 'ôm_dáng': 1, 'nhanh_mới': 1, 'ung_ho': 1, 'size_m': -1, 'hạt_dẻ': 1, 'khóa': -1, 'bánh có_vẻ': 1, 'thiện_cảm': -1, 'lì_xì': 1, 'mát la_nha': 1, 'truất': 1, 'phù_hợp thể_thao': 1, 'huhu': 1, 'cơ_yêu': 1, 'bực_mình': -1, 'tốt_ 👑': 1, 'xuất_sắc': 1, 'xinh_xinh': 1, 'xiu': 1, 'một_chút': 1, 'oke_cotton': 1, 'quần_đen': 1, 'đặc': -1, 'áo siêu_yêu': 1, 'cận': 1, '😔': 1, 'nhanh_ 👌': 1, 'nhanh quần_đẹp': 1, 'lưu_ý': 1, 'nhanh 😍': 1, 'xòe': 1, 'chip': 1, 'sớm': 0, 'cụ_thể bao_nhiu': 1, 'clip': 1, 'siêu_dày': 1, 'sọc': 1, 'vô_trách_nhiệm': -1, 'cẩu_thả': -1, 'thùng_thình': 0, 'đe_nẹt': 1, 'cảm_động': 1, 'nhanh_đẹp': 1, 'nhanh_ưng': 1, 'dep': 1, 'hợp_lý': 1, 'lấm_tấm': 1, 'ngắn_chút': 1, 'ko_ưng': -1, 'bất_tiện': 0, 'ốm': 1, 'nhanh_nhung': 1, 'ưng_nha': 1, 'nhanh 💋': 1, 'hình_chup': 1, 'trắng va_mịn': 1, 'xinhhhhh': 1, 'tệ_': -1, 'tráng_tình': -1, 'ngà_o vừa_ý': -1, 'rè': 1, 'lẻng_xẻng': 1, 'nvay': 1, 'cám_ơn shop': 1, 'tốt_ ❤': 1, 'muộn': 1, 'dọc': 1, 'tìm_hiểu': -1}\n"
     ]
    }
   ],
   "source": [
    "print(adj)"
   ]
  },
  {
   "cell_type": "code",
   "execution_count": null,
   "id": "e7292512-9af6-42b1-b22f-168564a43ee2",
   "metadata": {},
   "outputs": [],
   "source": []
  }
 ],
 "metadata": {
  "kernelspec": {
   "display_name": "Python 3 (ipykernel)",
   "language": "python",
   "name": "python3"
  },
  "language_info": {
   "codemirror_mode": {
    "name": "ipython",
    "version": 3
   },
   "file_extension": ".py",
   "mimetype": "text/x-python",
   "name": "python",
   "nbconvert_exporter": "python",
   "pygments_lexer": "ipython3",
   "version": "3.11.6"
  }
 },
 "nbformat": 4,
 "nbformat_minor": 5
}
