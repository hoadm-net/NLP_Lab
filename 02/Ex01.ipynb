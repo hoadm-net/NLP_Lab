{
 "cells": [
  {
   "cell_type": "code",
   "execution_count": 1,
   "id": "182b362e-6431-4501-b07e-8dc9f0712f74",
   "metadata": {},
   "outputs": [],
   "source": [
    "import requests\n",
    "from bs4 import BeautifulSoup\n"
   ]
  },
  {
   "cell_type": "code",
   "execution_count": 2,
   "id": "677cd90b-955d-46d4-80be-ae5c1a01991c",
   "metadata": {},
   "outputs": [],
   "source": [
    "url = 'https://vnexpress.net/'\n",
    "response = requests.get(url)\n",
    "\n",
    "soup = BeautifulSoup(response.text, 'html.parser')"
   ]
  },
  {
   "cell_type": "code",
   "execution_count": 3,
   "id": "bcdd47db-a2a0-41dd-9025-8aeddd8cf617",
   "metadata": {},
   "outputs": [],
   "source": [
    "# Print HTML\n",
    "\n",
    "# print(soup.prettify())"
   ]
  },
  {
   "cell_type": "code",
   "execution_count": 4,
   "id": "5b2254b5-ec4d-4b6f-b183-8ad0c07e5905",
   "metadata": {},
   "outputs": [
    {
     "name": "stdout",
     "output_type": "stream",
     "text": [
      "['Hai Phó chủ tịch UBND TP HCM nhận nhiệm vụ mới', '6 trường hợp sổ đỏ sẽ bị thu hồi từ năm 2025', 'Điều chỉnh mức đóng BHXH sau cải cách tiền lương', 'Khánh thành cầu bắc qua sông Cần Thơ', 'Đại tướng Tô Lâm, ông Trần Thanh Mẫn được giới thiệu để bầu Chủ tịch nước, Chủ tịch Quốc hội', \"'Doanh nghiệp làm nhà ở xã hội cho thuê là tự sát'\", 'Sầm Sơn 100 năm trước', 'Hiện trạng nút giao liên kết 3 cao tốc nối TP HCM với miền Tây', 'Thủ tướng yêu cầu hoàn thành thanh tra thị trường vàng trong tháng 5', '32 năm tìm kiếm logo của TP Hải Phòng']\n"
     ]
    }
   ],
   "source": [
    "count = 1\n",
    "title_list = []\n",
    "\n",
    "new_articles_div = soup.find(id='automation_TV0')\n",
    "if new_articles_div is not None:\n",
    "    title_tags = new_articles_div.find_all('h3', class_='title-news')\n",
    "    for tag in title_tags:\n",
    "        title_list.append(tag.text.strip())\n",
    "        count += 1\n",
    "\n",
    "        if count > 10:\n",
    "            break\n",
    "        \n",
    "\n",
    "print(title_list)"
   ]
  },
  {
   "cell_type": "code",
   "execution_count": 5,
   "id": "3b6218d9-9043-4e81-8a79-e9c7b0591ad7",
   "metadata": {},
   "outputs": [],
   "source": [
    "with open('paper_titles.txt', mode='w+') as f:\n",
    "    f.write('\\n'.join(title_list))\n"
   ]
  },
  {
   "cell_type": "markdown",
   "id": "f1293885-56f8-4fcc-8e18-9bb379d3bea8",
   "metadata": {},
   "source": [
    "## PyVi\n",
    "Python Vietnamese Core NLP Toolkit"
   ]
  },
  {
   "cell_type": "code",
   "execution_count": 6,
   "id": "67c6edb1-a2e4-49cd-87fd-752749ed4a0a",
   "metadata": {},
   "outputs": [
    {
     "data": {
      "text/plain": [
       "'Trường đại_học bách_khoa hà_nội'"
      ]
     },
     "execution_count": 6,
     "metadata": {},
     "output_type": "execute_result"
    }
   ],
   "source": [
    "from pyvi import ViTokenizer\n",
    "\n",
    "ViTokenizer.tokenize('Trường đại học bách khoa hà nội')"
   ]
  },
  {
   "cell_type": "markdown",
   "id": "9d873d4d-5a51-41a2-96cd-5527342a2e7c",
   "metadata": {},
   "source": [
    "## Underthesea\n",
    "Vietnamese NLP Toolkit"
   ]
  },
  {
   "cell_type": "code",
   "execution_count": 7,
   "id": "e74ebf5b-15bf-49de-8fe5-0997465a3dd2",
   "metadata": {},
   "outputs": [
    {
     "data": {
      "text/plain": [
       "'Trường đại_học bách_khoa hà_nội'"
      ]
     },
     "execution_count": 7,
     "metadata": {},
     "output_type": "execute_result"
    }
   ],
   "source": [
    "from underthesea import word_tokenize\n",
    "\n",
    "word_tokenize('Trường đại học bách khoa hà nội', format='text')"
   ]
  },
  {
   "cell_type": "markdown",
   "id": "9fb793bf-c4b2-498c-973f-1c241ad7ef52",
   "metadata": {},
   "source": [
    "## So sánh 2 thư viện trên dựa vào dữ liệu đã thu thập được"
   ]
  },
  {
   "cell_type": "code",
   "execution_count": 8,
   "id": "e962498c-b857-40a1-8935-635c5f3c0a2b",
   "metadata": {},
   "outputs": [
    {
     "data": {
      "text/html": [
       "<pre style=\"white-space:pre;overflow-x:auto;line-height:normal;font-family:Menlo,'DejaVu Sans Mono',consolas,'Courier New',monospace\"><span style=\"font-style: italic\">                                           So sánh các thư viện tách từ                                            </span>\n",
       "┏━━━━━┳━━━━━━━━━━━━━━━━━━━━━━━━━━━━━━━━━━━┳━━━━━━━━━━━━━━━━━━━━━━━━━━━━━━━━━━━┳━━━━━━━━━━━━━━━━━━━━━━━━━━━━━━━━━━━┓\n",
       "┃<span style=\"font-weight: bold\"> STT </span>┃<span style=\"font-weight: bold\"> Nội dung                          </span>┃<span style=\"font-weight: bold\"> PyVi                              </span>┃<span style=\"font-weight: bold\"> UndertheSea                       </span>┃\n",
       "┡━━━━━╇━━━━━━━━━━━━━━━━━━━━━━━━━━━━━━━━━━━╇━━━━━━━━━━━━━━━━━━━━━━━━━━━━━━━━━━━╇━━━━━━━━━━━━━━━━━━━━━━━━━━━━━━━━━━━┩\n",
       "│ 0   │ Hai Phó chủ tịch UBND TP HCM nhận │ Hai Phó_chủ_tịch UBND TP HCM nhận │ Hai Phó chủ_tịch UBND TP HCM nhận │\n",
       "│     │ nhiệm vụ mới                      │ nhiệm_vụ mới                      │ nhiệm_vụ mới                      │\n",
       "├─────┼───────────────────────────────────┼───────────────────────────────────┼───────────────────────────────────┤\n",
       "│ 1   │ 6 trường hợp sổ đỏ sẽ bị thu hồi  │ 6 trường_hợp sổ_đỏ sẽ bị thu_hồi  │ 6 trường_hợp sổ_đỏ sẽ bị thu_hồi  │\n",
       "│     │ từ năm 2025                       │ từ năm 2025                       │ từ năm 2025                       │\n",
       "├─────┼───────────────────────────────────┼───────────────────────────────────┼───────────────────────────────────┤\n",
       "│ 2   │ Điều chỉnh mức đóng BHXH sau cải  │ Điều_chỉnh mức đóng BHXH sau      │ Điều_chỉnh mức đóng BHXH sau      │\n",
       "│     │ cách tiền lương                   │ cải_cách tiền_lương               │ cải_cách tiền_lương               │\n",
       "├─────┼───────────────────────────────────┼───────────────────────────────────┼───────────────────────────────────┤\n",
       "│ 3   │ Khánh thành cầu bắc qua sông Cần  │ Khánh_thành cầu bắc qua sông      │ Khánh_thành cầu bắc qua sông      │\n",
       "│     │ Thơ                               │ Cần_Thơ                           │ Cần_Thơ                           │\n",
       "├─────┼───────────────────────────────────┼───────────────────────────────────┼───────────────────────────────────┤\n",
       "│ 4   │ Đại tướng Tô Lâm, ông Trần Thanh  │ Đại_tướng Tô_Lâm , ông            │ Đại_tướng Tô_Lâm , ông            │\n",
       "│     │ Mẫn được giới thiệu để bầu Chủ    │ Trần_Thanh_Mẫn được giới_thiệu để │ Trần_Thanh_Mẫn được giới_thiệu để │\n",
       "│     │ tịch nước, Chủ tịch Quốc hội      │ bầu Chủ_tịch nước , Chủ_tịch      │ bầu Chủ_tịch nước , Chủ_tịch      │\n",
       "│     │                                   │ Quốc_hội                          │ Quốc_hội                          │\n",
       "├─────┼───────────────────────────────────┼───────────────────────────────────┼───────────────────────────────────┤\n",
       "│ 5   │ 'Doanh nghiệp làm nhà ở xã hội    │ ' Doanh_nghiệp làm nhà ở xã_hội   │ ' Doanh_nghiệp làm nhà ở xã_hội   │\n",
       "│     │ cho thuê là tự sát'               │ cho thuê là tự_sát '              │ cho thuê là tự_sát '              │\n",
       "├─────┼───────────────────────────────────┼───────────────────────────────────┼───────────────────────────────────┤\n",
       "│ 6   │ Sầm Sơn 100 năm trước             │ Sầm_Sơn 100 năm trước             │ Sầm_Sơn 100 năm trước             │\n",
       "├─────┼───────────────────────────────────┼───────────────────────────────────┼───────────────────────────────────┤\n",
       "│ 7   │ Hiện trạng nút giao liên kết 3    │ Hiện_trạng nút giao_liên_kết 3    │ Hiện_trạng nút giao liên_kết 3    │\n",
       "│     │ cao tốc nối TP HCM với miền Tây   │ cao_tốc nối TP HCM với miền Tây   │ cao_tốc nối TP HCM với miền Tây   │\n",
       "├─────┼───────────────────────────────────┼───────────────────────────────────┼───────────────────────────────────┤\n",
       "│ 8   │ Thủ tướng yêu cầu hoàn thành      │ Thủ_tướng yêu_cầu hoàn_thành      │ Thủ_tướng yêu_cầu hoàn_thành      │\n",
       "│     │ thanh tra thị trường vàng trong   │ thanh_tra thị_trường vàng trong   │ thanh_tra thị_trường vàng trong   │\n",
       "│     │ tháng 5                           │ tháng 5                           │ tháng 5                           │\n",
       "├─────┼───────────────────────────────────┼───────────────────────────────────┼───────────────────────────────────┤\n",
       "│ 9   │ 32 năm tìm kiếm logo của TP Hải   │ 32 năm tìm_kiếm logo của TP       │ 32 năm tìm_kiếm logo của TP       │\n",
       "│     │ Phòng                             │ Hải_Phòng                         │ Hải_Phòng                         │\n",
       "└─────┴───────────────────────────────────┴───────────────────────────────────┴───────────────────────────────────┘\n",
       "</pre>\n"
      ],
      "text/plain": [
       "\u001b[3m                                           So sánh các thư viện tách từ                                            \u001b[0m\n",
       "┏━━━━━┳━━━━━━━━━━━━━━━━━━━━━━━━━━━━━━━━━━━┳━━━━━━━━━━━━━━━━━━━━━━━━━━━━━━━━━━━┳━━━━━━━━━━━━━━━━━━━━━━━━━━━━━━━━━━━┓\n",
       "┃\u001b[1m \u001b[0m\u001b[1mSTT\u001b[0m\u001b[1m \u001b[0m┃\u001b[1m \u001b[0m\u001b[1mNội dung                         \u001b[0m\u001b[1m \u001b[0m┃\u001b[1m \u001b[0m\u001b[1mPyVi                             \u001b[0m\u001b[1m \u001b[0m┃\u001b[1m \u001b[0m\u001b[1mUndertheSea                      \u001b[0m\u001b[1m \u001b[0m┃\n",
       "┡━━━━━╇━━━━━━━━━━━━━━━━━━━━━━━━━━━━━━━━━━━╇━━━━━━━━━━━━━━━━━━━━━━━━━━━━━━━━━━━╇━━━━━━━━━━━━━━━━━━━━━━━━━━━━━━━━━━━┩\n",
       "│ 0   │ Hai Phó chủ tịch UBND TP HCM nhận │ Hai Phó_chủ_tịch UBND TP HCM nhận │ Hai Phó chủ_tịch UBND TP HCM nhận │\n",
       "│     │ nhiệm vụ mới                      │ nhiệm_vụ mới                      │ nhiệm_vụ mới                      │\n",
       "├─────┼───────────────────────────────────┼───────────────────────────────────┼───────────────────────────────────┤\n",
       "│ 1   │ 6 trường hợp sổ đỏ sẽ bị thu hồi  │ 6 trường_hợp sổ_đỏ sẽ bị thu_hồi  │ 6 trường_hợp sổ_đỏ sẽ bị thu_hồi  │\n",
       "│     │ từ năm 2025                       │ từ năm 2025                       │ từ năm 2025                       │\n",
       "├─────┼───────────────────────────────────┼───────────────────────────────────┼───────────────────────────────────┤\n",
       "│ 2   │ Điều chỉnh mức đóng BHXH sau cải  │ Điều_chỉnh mức đóng BHXH sau      │ Điều_chỉnh mức đóng BHXH sau      │\n",
       "│     │ cách tiền lương                   │ cải_cách tiền_lương               │ cải_cách tiền_lương               │\n",
       "├─────┼───────────────────────────────────┼───────────────────────────────────┼───────────────────────────────────┤\n",
       "│ 3   │ Khánh thành cầu bắc qua sông Cần  │ Khánh_thành cầu bắc qua sông      │ Khánh_thành cầu bắc qua sông      │\n",
       "│     │ Thơ                               │ Cần_Thơ                           │ Cần_Thơ                           │\n",
       "├─────┼───────────────────────────────────┼───────────────────────────────────┼───────────────────────────────────┤\n",
       "│ 4   │ Đại tướng Tô Lâm, ông Trần Thanh  │ Đại_tướng Tô_Lâm , ông            │ Đại_tướng Tô_Lâm , ông            │\n",
       "│     │ Mẫn được giới thiệu để bầu Chủ    │ Trần_Thanh_Mẫn được giới_thiệu để │ Trần_Thanh_Mẫn được giới_thiệu để │\n",
       "│     │ tịch nước, Chủ tịch Quốc hội      │ bầu Chủ_tịch nước , Chủ_tịch      │ bầu Chủ_tịch nước , Chủ_tịch      │\n",
       "│     │                                   │ Quốc_hội                          │ Quốc_hội                          │\n",
       "├─────┼───────────────────────────────────┼───────────────────────────────────┼───────────────────────────────────┤\n",
       "│ 5   │ 'Doanh nghiệp làm nhà ở xã hội    │ ' Doanh_nghiệp làm nhà ở xã_hội   │ ' Doanh_nghiệp làm nhà ở xã_hội   │\n",
       "│     │ cho thuê là tự sát'               │ cho thuê là tự_sát '              │ cho thuê là tự_sát '              │\n",
       "├─────┼───────────────────────────────────┼───────────────────────────────────┼───────────────────────────────────┤\n",
       "│ 6   │ Sầm Sơn 100 năm trước             │ Sầm_Sơn 100 năm trước             │ Sầm_Sơn 100 năm trước             │\n",
       "├─────┼───────────────────────────────────┼───────────────────────────────────┼───────────────────────────────────┤\n",
       "│ 7   │ Hiện trạng nút giao liên kết 3    │ Hiện_trạng nút giao_liên_kết 3    │ Hiện_trạng nút giao liên_kết 3    │\n",
       "│     │ cao tốc nối TP HCM với miền Tây   │ cao_tốc nối TP HCM với miền Tây   │ cao_tốc nối TP HCM với miền Tây   │\n",
       "├─────┼───────────────────────────────────┼───────────────────────────────────┼───────────────────────────────────┤\n",
       "│ 8   │ Thủ tướng yêu cầu hoàn thành      │ Thủ_tướng yêu_cầu hoàn_thành      │ Thủ_tướng yêu_cầu hoàn_thành      │\n",
       "│     │ thanh tra thị trường vàng trong   │ thanh_tra thị_trường vàng trong   │ thanh_tra thị_trường vàng trong   │\n",
       "│     │ tháng 5                           │ tháng 5                           │ tháng 5                           │\n",
       "├─────┼───────────────────────────────────┼───────────────────────────────────┼───────────────────────────────────┤\n",
       "│ 9   │ 32 năm tìm kiếm logo của TP Hải   │ 32 năm tìm_kiếm logo của TP       │ 32 năm tìm_kiếm logo của TP       │\n",
       "│     │ Phòng                             │ Hải_Phòng                         │ Hải_Phòng                         │\n",
       "└─────┴───────────────────────────────────┴───────────────────────────────────┴───────────────────────────────────┘\n"
      ]
     },
     "metadata": {},
     "output_type": "display_data"
    }
   ],
   "source": [
    "from rich.console import Console\n",
    "from rich.table import Table\n",
    "\n",
    "table = Table(title=\"So sánh các thư viện tách từ\", show_lines=True)\n",
    "\n",
    "table.add_column(\"STT\")\n",
    "table.add_column(\"Nội dung\")\n",
    "table.add_column(\"PyVi\")\n",
    "table.add_column(\"UndertheSea\")\n",
    "\n",
    "# table.add_row(\"Dec 20, 2019\", \"Star Wars: The Rise of Skywalker\", \"$952,110,690\")\n",
    "for idx, txt in enumerate(title_list):\n",
    "    pyvi_tokens = ViTokenizer.tokenize(txt)\n",
    "    uts = word_tokenize(txt, format='text')\n",
    "    \n",
    "    table.add_row(f\"{idx}\", txt, pyvi_tokens, uts)\n",
    "    \n",
    "console = Console()\n",
    "console.print(table)"
   ]
  },
  {
   "cell_type": "code",
   "execution_count": null,
   "id": "333f78f5-ac57-48a3-8a3e-bdd12248e396",
   "metadata": {},
   "outputs": [],
   "source": []
  }
 ],
 "metadata": {
  "kernelspec": {
   "display_name": "Python 3 (ipykernel)",
   "language": "python",
   "name": "python3"
  },
  "language_info": {
   "codemirror_mode": {
    "name": "ipython",
    "version": 3
   },
   "file_extension": ".py",
   "mimetype": "text/x-python",
   "name": "python",
   "nbconvert_exporter": "python",
   "pygments_lexer": "ipython3",
   "version": "3.11.6"
  }
 },
 "nbformat": 4,
 "nbformat_minor": 5
}
