{
 "cells": [
  {
   "cell_type": "code",
   "execution_count": 1,
   "id": "cae40ec9-e5d1-42f3-bdba-d80d1e4cb0ec",
   "metadata": {},
   "outputs": [],
   "source": [
    "from sklearn.metrics import classification_report"
   ]
  },
  {
   "cell_type": "code",
   "execution_count": 2,
   "id": "c5db0798-7ded-4ea6-a6eb-d12fc8d9ae4a",
   "metadata": {},
   "outputs": [
    {
     "name": "stdout",
     "output_type": "stream",
     "text": [
      "1000\n",
      "['slide giáo_trình đầy_đủ', 'nhiệt_tình giảng_dạy gần_gũi với sinh_viên', 'đi học đầy_đủ full_điểm chuyên cần', 'chưa áp_dụng công_nghệ_thông_tin và các thiết_bị hỗ_trợ cho việc giảng_dạy', 'thầy giảng bài hay có nhiều bài_tập ví_dụ ngay trên lớp']\n"
     ]
    }
   ],
   "source": [
    "with open('../data/02/data.txt', 'r') as f:\n",
    "    corpus = [line.strip() for line in f.readlines()]\n",
    "\n",
    "print(len(corpus))\n",
    "print(corpus[:5])"
   ]
  },
  {
   "cell_type": "code",
   "execution_count": 3,
   "id": "8338c842-a673-409c-b985-b26cf2fcc14f",
   "metadata": {},
   "outputs": [
    {
     "name": "stdout",
     "output_type": "stream",
     "text": [
      "1000\n",
      "[1, 1, 0, 0, 1]\n"
     ]
    }
   ],
   "source": [
    "with open('../data/02/label.txt', 'r') as f:\n",
    "    labels = [int(line.strip()) for line in f.readlines()]\n",
    "\n",
    "print(len(labels))\n",
    "print(labels[:5])"
   ]
  },
  {
   "cell_type": "code",
   "execution_count": 4,
   "id": "45c90bee-e2fe-4fdf-98aa-e20336ec733c",
   "metadata": {},
   "outputs": [
    {
     "name": "stdout",
     "output_type": "stream",
     "text": [
      "778\n",
      "10: -0.0059399921312647055\n",
      "anh: 0.2357178283932401\n",
      "anh_chị: 0.024527624563824527\n",
      "anh_em: 0.029138215140361533\n",
      "ban: 0.03209920632340126\n",
      "bao_giờ: 0.05832055226870135\n",
      "biên_soạn: -0.07420995723154525\n",
      "biết: 0.12674258044233896\n",
      "buồn: -1.1378197890620905\n",
      "buồn_ngủ: -0.3709266922681303\n"
     ]
    }
   ],
   "source": [
    "viDict = {}\n",
    "\n",
    "with open('../data/02/dictionary.txt', 'r') as f:\n",
    "    for line in f.readlines():\n",
    "        items = [p.strip() for p in line.split(';')]\n",
    "        viDict[items[0]] = float(items[1])\n",
    "\n",
    "print(len(viDict))\n",
    "\n",
    "i = 1\n",
    "for key in viDict.keys():\n",
    "    print(f\"{key}: {viDict[key]}\")\n",
    "\n",
    "    i+=1\n",
    "    if i > 10:\n",
    "        break"
   ]
  },
  {
   "cell_type": "code",
   "execution_count": 5,
   "id": "0fd8519c-1bd2-4886-beb9-8fe28aa58c38",
   "metadata": {},
   "outputs": [],
   "source": [
    "y_pred = []\n",
    "\n",
    "for doc in corpus:\n",
    "    tokens = doc.split()\n",
    "    score = 0\n",
    "    for token in tokens:\n",
    "        if token in viDict.keys():\n",
    "            score += viDict[token]\n",
    "\n",
    "    if score > 0:\n",
    "        y_pred.append(1)\n",
    "    else:\n",
    "        y_pred.append(0)"
   ]
  },
  {
   "cell_type": "code",
   "execution_count": 6,
   "id": "bd106fed-506a-4e61-a7ce-91cc8359a218",
   "metadata": {},
   "outputs": [
    {
     "name": "stdout",
     "output_type": "stream",
     "text": [
      "              precision    recall  f1-score   support\n",
      "\n",
      "           0       0.93      0.89      0.91       507\n",
      "           1       0.89      0.93      0.91       493\n",
      "\n",
      "    accuracy                           0.91      1000\n",
      "   macro avg       0.91      0.91      0.91      1000\n",
      "weighted avg       0.91      0.91      0.91      1000\n",
      "\n"
     ]
    }
   ],
   "source": [
    "print(classification_report(labels, y_pred))"
   ]
  },
  {
   "cell_type": "code",
   "execution_count": null,
   "id": "712d2d61-4689-443e-9b29-de0813ce2600",
   "metadata": {},
   "outputs": [],
   "source": []
  }
 ],
 "metadata": {
  "kernelspec": {
   "display_name": "Python 3 (ipykernel)",
   "language": "python",
   "name": "python3"
  },
  "language_info": {
   "codemirror_mode": {
    "name": "ipython",
    "version": 3
   },
   "file_extension": ".py",
   "mimetype": "text/x-python",
   "name": "python",
   "nbconvert_exporter": "python",
   "pygments_lexer": "ipython3",
   "version": "3.11.6"
  }
 },
 "nbformat": 4,
 "nbformat_minor": 5
}
